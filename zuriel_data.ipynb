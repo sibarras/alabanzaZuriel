{
 "metadata": {
  "language_info": {
   "codemirror_mode": {
    "name": "ipython",
    "version": 3
   },
   "file_extension": ".py",
   "mimetype": "text/x-python",
   "name": "python",
   "nbconvert_exporter": "python",
   "pygments_lexer": "ipython3",
   "version": "3.9.2-final"
  },
  "orig_nbformat": 2,
  "kernelspec": {
   "name": "python3",
   "display_name": "Python 3.9.2 64-bit ('env': venv)",
   "metadata": {
    "interpreter": {
     "hash": "ff72627e9b3a16bd363cc2f0ad818dde36216854f4a5585e12cc0dae20324579"
    }
   }
  }
 },
 "nbformat": 4,
 "nbformat_minor": 2,
 "cells": [
  {
   "cell_type": "code",
   "execution_count": 1,
   "metadata": {},
   "outputs": [],
   "source": [
    "import pandas as pd\n",
    "from pathlib import Path\n",
    "\n",
    "import matplotlib.pyplot as plt\n",
    "import numpy as np\n"
   ]
  },
  {
   "cell_type": "code",
   "execution_count": 3,
   "metadata": {},
   "outputs": [],
   "source": [
    "FILE_PATH = Path().parent / \"tables\" / \"Encuesta Alabanza Templo Zuriel.csv\"\n",
    "table = pd.read_csv(FILE_PATH)\n"
   ]
  },
  {
   "cell_type": "code",
   "execution_count": 4,
   "metadata": {},
   "outputs": [],
   "source": [
    "# Leer el Calendario de Disponibilidad\n",
    "calendar_col_name = 'Días en Los que Puede Ministrar sin Conflictos Horarios'\n",
    "table[calendar_col_name] = table[calendar_col_name].apply(lambda x: x.split(';'))\n",
    "idx = table[calendar_col_name].apply(lambda x: len(x)).idxmax()\n",
    "\n",
    "names = table['Nombre'].to_list()\n",
    "service_days = table.iloc[idx][calendar_col_name]\n",
    "\n",
    "bin_lists:list = table[calendar_col_name].apply(lambda x: [service_days[i] in x for i in range(len(service_days))]).to_list()\n",
    "logic_list = [[name] + bin_list for name, bin_list in zip(names, bin_lists)]\n",
    "avaliable_calendar = pd.DataFrame(bin_lists, index=names, columns=service_days)\n"
   ]
  },
  {
   "cell_type": "code",
   "execution_count": 5,
   "metadata": {},
   "outputs": [
    {
     "output_type": "execute_result",
     "data": {
      "text/plain": [
       "                                 Martes (Desde las 7:30 P.M.)  \\\n",
       "Edwin González                                          False   \n",
       "Johanám                                                  True   \n",
       "Maribel Góndola                                          True   \n",
       "Ruth Moran de Caballero                                 False   \n",
       "Moisés Góndola                                           True   \n",
       "Ivonne Howard de Moran                                  False   \n",
       "Kathy carolina Mendieta                                 False   \n",
       "Angy                                                     True   \n",
       "Priscilla Lawson                                        False   \n",
       "Adameybis Calvo                                         False   \n",
       "Joel Santos                                              True   \n",
       "Samuel Ibarra                                            True   \n",
       "Greace Beltran                                          False   \n",
       "Luis Garcia                                              True   \n",
       "Daniel David Valdivieso Delgado                          True   \n",
       "Sindy Sanchez                                            True   \n",
       "Honey Clovis                                             True   \n",
       "Betzy Solis de Ibarra                                   False   \n",
       "\n",
       "                                 Jueves (Desde las 7:30 P.M.)  \\\n",
       "Edwin González                                           True   \n",
       "Johanám                                                  True   \n",
       "Maribel Góndola                                          True   \n",
       "Ruth Moran de Caballero                                 False   \n",
       "Moisés Góndola                                           True   \n",
       "Ivonne Howard de Moran                                  False   \n",
       "Kathy carolina Mendieta                                  True   \n",
       "Angy                                                     True   \n",
       "Priscilla Lawson                                         True   \n",
       "Adameybis Calvo                                         False   \n",
       "Joel Santos                                              True   \n",
       "Samuel Ibarra                                            True   \n",
       "Greace Beltran                                          False   \n",
       "Luis Garcia                                             False   \n",
       "Daniel David Valdivieso Delgado                          True   \n",
       "Sindy Sanchez                                            True   \n",
       "Honey Clovis                                             True   \n",
       "Betzy Solis de Ibarra                                    True   \n",
       "\n",
       "                                 Viernes (Desde las 7:30 P.M.)  \\\n",
       "Edwin González                                           False   \n",
       "Johanám                                                  False   \n",
       "Maribel Góndola                                           True   \n",
       "Ruth Moran de Caballero                                   True   \n",
       "Moisés Góndola                                            True   \n",
       "Ivonne Howard de Moran                                    True   \n",
       "Kathy carolina Mendieta                                  False   \n",
       "Angy                                                      True   \n",
       "Priscilla Lawson                                         False   \n",
       "Adameybis Calvo                                          False   \n",
       "Joel Santos                                               True   \n",
       "Samuel Ibarra                                             True   \n",
       "Greace Beltran                                           False   \n",
       "Luis Garcia                                               True   \n",
       "Daniel David Valdivieso Delgado                           True   \n",
       "Sindy Sanchez                                             True   \n",
       "Honey Clovis                                              True   \n",
       "Betzy Solis de Ibarra                                     True   \n",
       "\n",
       "                                 Sábado (Desde las 4:00 P.M.)  \\\n",
       "Edwin González                                           True   \n",
       "Johanám                                                  True   \n",
       "Maribel Góndola                                          True   \n",
       "Ruth Moran de Caballero                                 False   \n",
       "Moisés Góndola                                           True   \n",
       "Ivonne Howard de Moran                                  False   \n",
       "Kathy carolina Mendieta                                 False   \n",
       "Angy                                                    False   \n",
       "Priscilla Lawson                                         True   \n",
       "Adameybis Calvo                                          True   \n",
       "Joel Santos                                              True   \n",
       "Samuel Ibarra                                            True   \n",
       "Greace Beltran                                          False   \n",
       "Luis Garcia                                             False   \n",
       "Daniel David Valdivieso Delgado                          True   \n",
       "Sindy Sanchez                                            True   \n",
       "Honey Clovis                                             True   \n",
       "Betzy Solis de Ibarra                                    True   \n",
       "\n",
       "                                 Domingo (Desde las 10:00 A.M.)  \n",
       "Edwin González                                             True  \n",
       "Johanám                                                    True  \n",
       "Maribel Góndola                                            True  \n",
       "Ruth Moran de Caballero                                    True  \n",
       "Moisés Góndola                                             True  \n",
       "Ivonne Howard de Moran                                     True  \n",
       "Kathy carolina Mendieta                                    True  \n",
       "Angy                                                       True  \n",
       "Priscilla Lawson                                           True  \n",
       "Adameybis Calvo                                            True  \n",
       "Joel Santos                                                True  \n",
       "Samuel Ibarra                                              True  \n",
       "Greace Beltran                                             True  \n",
       "Luis Garcia                                                True  \n",
       "Daniel David Valdivieso Delgado                            True  \n",
       "Sindy Sanchez                                              True  \n",
       "Honey Clovis                                               True  \n",
       "Betzy Solis de Ibarra                                      True  "
      ],
      "text/html": "<div>\n<style scoped>\n    .dataframe tbody tr th:only-of-type {\n        vertical-align: middle;\n    }\n\n    .dataframe tbody tr th {\n        vertical-align: top;\n    }\n\n    .dataframe thead th {\n        text-align: right;\n    }\n</style>\n<table border=\"1\" class=\"dataframe\">\n  <thead>\n    <tr style=\"text-align: right;\">\n      <th></th>\n      <th>Martes (Desde las 7:30 P.M.)</th>\n      <th>Jueves (Desde las 7:30 P.M.)</th>\n      <th>Viernes (Desde las 7:30 P.M.)</th>\n      <th>Sábado (Desde las 4:00 P.M.)</th>\n      <th>Domingo (Desde las 10:00 A.M.)</th>\n    </tr>\n  </thead>\n  <tbody>\n    <tr>\n      <th>Edwin González</th>\n      <td>False</td>\n      <td>True</td>\n      <td>False</td>\n      <td>True</td>\n      <td>True</td>\n    </tr>\n    <tr>\n      <th>Johanám</th>\n      <td>True</td>\n      <td>True</td>\n      <td>False</td>\n      <td>True</td>\n      <td>True</td>\n    </tr>\n    <tr>\n      <th>Maribel Góndola</th>\n      <td>True</td>\n      <td>True</td>\n      <td>True</td>\n      <td>True</td>\n      <td>True</td>\n    </tr>\n    <tr>\n      <th>Ruth Moran de Caballero</th>\n      <td>False</td>\n      <td>False</td>\n      <td>True</td>\n      <td>False</td>\n      <td>True</td>\n    </tr>\n    <tr>\n      <th>Moisés Góndola</th>\n      <td>True</td>\n      <td>True</td>\n      <td>True</td>\n      <td>True</td>\n      <td>True</td>\n    </tr>\n    <tr>\n      <th>Ivonne Howard de Moran</th>\n      <td>False</td>\n      <td>False</td>\n      <td>True</td>\n      <td>False</td>\n      <td>True</td>\n    </tr>\n    <tr>\n      <th>Kathy carolina Mendieta</th>\n      <td>False</td>\n      <td>True</td>\n      <td>False</td>\n      <td>False</td>\n      <td>True</td>\n    </tr>\n    <tr>\n      <th>Angy</th>\n      <td>True</td>\n      <td>True</td>\n      <td>True</td>\n      <td>False</td>\n      <td>True</td>\n    </tr>\n    <tr>\n      <th>Priscilla Lawson</th>\n      <td>False</td>\n      <td>True</td>\n      <td>False</td>\n      <td>True</td>\n      <td>True</td>\n    </tr>\n    <tr>\n      <th>Adameybis Calvo</th>\n      <td>False</td>\n      <td>False</td>\n      <td>False</td>\n      <td>True</td>\n      <td>True</td>\n    </tr>\n    <tr>\n      <th>Joel Santos</th>\n      <td>True</td>\n      <td>True</td>\n      <td>True</td>\n      <td>True</td>\n      <td>True</td>\n    </tr>\n    <tr>\n      <th>Samuel Ibarra</th>\n      <td>True</td>\n      <td>True</td>\n      <td>True</td>\n      <td>True</td>\n      <td>True</td>\n    </tr>\n    <tr>\n      <th>Greace Beltran</th>\n      <td>False</td>\n      <td>False</td>\n      <td>False</td>\n      <td>False</td>\n      <td>True</td>\n    </tr>\n    <tr>\n      <th>Luis Garcia</th>\n      <td>True</td>\n      <td>False</td>\n      <td>True</td>\n      <td>False</td>\n      <td>True</td>\n    </tr>\n    <tr>\n      <th>Daniel David Valdivieso Delgado</th>\n      <td>True</td>\n      <td>True</td>\n      <td>True</td>\n      <td>True</td>\n      <td>True</td>\n    </tr>\n    <tr>\n      <th>Sindy Sanchez</th>\n      <td>True</td>\n      <td>True</td>\n      <td>True</td>\n      <td>True</td>\n      <td>True</td>\n    </tr>\n    <tr>\n      <th>Honey Clovis</th>\n      <td>True</td>\n      <td>True</td>\n      <td>True</td>\n      <td>True</td>\n      <td>True</td>\n    </tr>\n    <tr>\n      <th>Betzy Solis de Ibarra</th>\n      <td>False</td>\n      <td>True</td>\n      <td>True</td>\n      <td>True</td>\n      <td>True</td>\n    </tr>\n  </tbody>\n</table>\n</div>"
     },
     "metadata": {},
     "execution_count": 5
    }
   ],
   "source": [
    "avaliable_calendar"
   ]
  },
  {
   "cell_type": "code",
   "execution_count": 17,
   "metadata": {},
   "outputs": [],
   "source": [
    "import calplot\n",
    "import datetime\n",
    "import calendar\n",
    "\n",
    "current_date = datetime.date.today()\n",
    "year = current_date.year\n",
    "month = current_date.month\n",
    "weekday = current_date.weekday()\n",
    "\n",
    "cal = calendar.Calendar(weekday)\n"
   ]
  },
  {
   "cell_type": "code",
   "execution_count": null,
   "metadata": {},
   "outputs": [],
   "source": []
  }
 ]
}